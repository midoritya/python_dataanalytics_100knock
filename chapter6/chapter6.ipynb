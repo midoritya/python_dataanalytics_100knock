{
 "cells": [
  {
   "cell_type": "code",
   "execution_count": null,
   "id": "5adbb983",
   "metadata": {},
   "outputs": [],
   "source": [
    "#ノック５１\n",
    "\n",
    "import pandas as pd\n",
    "\n",
    "# 工場データの読み込み\n",
    "factories = pd.read_csv(\"tbl_factory.csv\", index_col=0)\n",
    "factories\n",
    "\n",
    "# 倉庫データの読み込み\n",
    "warehouses = pd.read_csv(\"tbl_warehouse.csv\", index_col=0)\n",
    "warehouses\n",
    "\n",
    "# コストテーブル\n",
    "cost = pd.read_csv(\"rel_cost.csv\", index_col=0)\n",
    "cost.head()\n",
    "\n",
    "# 輸送トランザクションテーブル\n",
    "trans = pd.read_csv(\"tbl_transaction.csv\", index_col=0)\n",
    "trans.head()\n",
    "\n",
    "# トランザクションテーブルに各テーブルをジョインする\n",
    "# コストデータを付与\n",
    "join_data = pd.merge(trans, cost, left_on=[\"ToFC\",\"FromWH\"], right_on=[\"FCID\",\"WHID\"], how=\"left\")\n",
    "join_data.head()\n",
    "\n",
    "# 工場情報を付与\n",
    "join_data = pd.merge(join_data, factories, left_on=\"ToFC\", right_on=\"FCID\", how=\"left\")\n",
    "join_data.head()\n",
    "\n",
    "# 倉庫情報を付与\n",
    "join_data = pd.merge(join_data, warehouses, left_on=\"FromWH\", right_on=\"WHID\", how=\"left\")\n",
    "# カラムの並び替え\n",
    "join_data = join_data[[\"TransactionDate\",\"Quantity\",\"Cost\",\"ToFC\",\"FCName\",\"FCDemand\",\"FromWH\",\"WHName\",\"WHSupply\",\"WHRegion\"]]\n",
    "join_data.head()\n",
    "\n",
    "# 関東データを抽出\n",
    "kanto = join_data.loc[join_data[\"WHRegion\"]==\"関東\"]\n",
    "kanto.head()\n",
    "\n",
    "# 東北データを抽出\n",
    "tohoku = join_data.loc[join_data[\"WHRegion\"]==\"東北\"]\n",
    "tohoku.head()"
   ]
  }
 ],
 "metadata": {
  "kernelspec": {
   "display_name": "Python 3 (ipykernel)",
   "language": "python",
   "name": "python3"
  },
  "language_info": {
   "codemirror_mode": {
    "name": "ipython",
    "version": 3
   },
   "file_extension": ".py",
   "mimetype": "text/x-python",
   "name": "python",
   "nbconvert_exporter": "python",
   "pygments_lexer": "ipython3",
   "version": "3.9.7"
  }
 },
 "nbformat": 4,
 "nbformat_minor": 5
}
