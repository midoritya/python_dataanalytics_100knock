{
 "cells": [
  {
   "cell_type": "code",
   "execution_count": 5,
   "id": "3f76752f",
   "metadata": {},
   "outputs": [
    {
     "data": {
      "text/html": [
       "<div>\n",
       "<style scoped>\n",
       "    .dataframe tbody tr th:only-of-type {\n",
       "        vertical-align: middle;\n",
       "    }\n",
       "\n",
       "    .dataframe tbody tr th {\n",
       "        vertical-align: top;\n",
       "    }\n",
       "\n",
       "    .dataframe thead th {\n",
       "        text-align: right;\n",
       "    }\n",
       "</style>\n",
       "<table border=\"1\" class=\"dataframe\">\n",
       "  <thead>\n",
       "    <tr style=\"text-align: right;\">\n",
       "      <th></th>\n",
       "      <th>顧客名</th>\n",
       "      <th>かな</th>\n",
       "      <th>地域</th>\n",
       "      <th>メールアドレス</th>\n",
       "      <th>登録日</th>\n",
       "    </tr>\n",
       "  </thead>\n",
       "  <tbody>\n",
       "    <tr>\n",
       "      <th>0</th>\n",
       "      <td>須賀ひとみ</td>\n",
       "      <td>すが ひとみ</td>\n",
       "      <td>H市</td>\n",
       "      <td>suga_hitomi@example.com</td>\n",
       "      <td>2018/01/04</td>\n",
       "    </tr>\n",
       "    <tr>\n",
       "      <th>1</th>\n",
       "      <td>岡田　 敏也</td>\n",
       "      <td>おかだ としや</td>\n",
       "      <td>E市</td>\n",
       "      <td>okada_toshiya@example.com</td>\n",
       "      <td>42782</td>\n",
       "    </tr>\n",
       "    <tr>\n",
       "      <th>2</th>\n",
       "      <td>芳賀 希</td>\n",
       "      <td>はが のぞみ</td>\n",
       "      <td>A市</td>\n",
       "      <td>haga_nozomi@example.com</td>\n",
       "      <td>2018/01/07</td>\n",
       "    </tr>\n",
       "    <tr>\n",
       "      <th>3</th>\n",
       "      <td>荻野  愛</td>\n",
       "      <td>おぎの あい</td>\n",
       "      <td>F市</td>\n",
       "      <td>ogino_ai@example.com</td>\n",
       "      <td>42872</td>\n",
       "    </tr>\n",
       "    <tr>\n",
       "      <th>4</th>\n",
       "      <td>栗田 憲一</td>\n",
       "      <td>くりた けんいち</td>\n",
       "      <td>E市</td>\n",
       "      <td>kurita_kenichi@example.com</td>\n",
       "      <td>43127</td>\n",
       "    </tr>\n",
       "  </tbody>\n",
       "</table>\n",
       "</div>"
      ],
      "text/plain": [
       "      顧客名        かな  地域                     メールアドレス         登録日\n",
       "0   須賀ひとみ    すが ひとみ  H市     suga_hitomi@example.com  2018/01/04\n",
       "1  岡田　 敏也   おかだ としや  E市   okada_toshiya@example.com       42782\n",
       "2    芳賀 希    はが のぞみ  A市     haga_nozomi@example.com  2018/01/07\n",
       "3   荻野  愛    おぎの あい  F市        ogino_ai@example.com       42872\n",
       "4   栗田 憲一  くりた けんいち  E市  kurita_kenichi@example.com       43127"
      ]
     },
     "execution_count": 5,
     "metadata": {},
     "output_type": "execute_result"
    }
   ],
   "source": [
    "import pandas as pd\n",
    "\n",
    "uriage_data = pd.read_csv(\"data/uriage.csv\")\n",
    "uriage_data.head()\n",
    "\n",
    "kokyaku_data = pd.read_excel(\"data/kokyaku_daicho.xlsx\")\n",
    "kokyaku_data.head()"
   ]
  }
 ],
 "metadata": {
  "kernelspec": {
   "display_name": "Python 3 (ipykernel)",
   "language": "python",
   "name": "python3"
  },
  "language_info": {
   "codemirror_mode": {
    "name": "ipython",
    "version": 3
   },
   "file_extension": ".py",
   "mimetype": "text/x-python",
   "name": "python",
   "nbconvert_exporter": "python",
   "pygments_lexer": "ipython3",
   "version": "3.9.7"
  }
 },
 "nbformat": 4,
 "nbformat_minor": 5
}
